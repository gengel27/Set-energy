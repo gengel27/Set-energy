{
 "cells": [
  {
   "cell_type": "markdown",
   "id": "0629306a-b14b-4a77-b765-295c47b51d9a",
   "metadata": {},
   "source": [
    "# importar librería"
   ]
  },
  {
   "cell_type": "code",
   "execution_count": 4,
   "id": "8bdb54f4-d39c-4409-b267-4c41353a1880",
   "metadata": {},
   "outputs": [],
   "source": [
    "from selenium import webdriver\n",
    "from bs4 import BeautifulSoup\n",
    "import time\n",
    "import pandas as pd \n",
    "\n",
    "from datetime import date,timedelta,datetime\n",
    "import sqlalchemy\n",
    "from sqlalchemy import create_engine\n"
   ]
  },
  {
   "cell_type": "markdown",
   "id": "75d7d5dc-0e54-4a90-830e-13b2e423daac",
   "metadata": {},
   "source": [
    "# iniciar driver"
   ]
  },
  {
   "cell_type": "code",
   "execution_count": 1,
   "id": "851c8dd0-bd5b-4ab0-9b4e-8cbd9b079966",
   "metadata": {},
   "outputs": [
    {
     "name": "stderr",
     "output_type": "stream",
     "text": [
      "WARNING: ffmpeg not found. The downloaded format may not be the best available. Installing ffmpeg is strongly recommended: https://github.com/yt-dlp/yt-dlp#dependencies\n"
     ]
    },
    {
     "name": "stdout",
     "output_type": "stream",
     "text": [
      "Found video: TUVE 24 CITAS con 24 YOUTUBERS !!\n",
      "Video URL: https://www.youtube.com/watch?v=bR4CIFZAGV0\n",
      "[youtube] Extracting URL: https://www.youtube.com/watch?v=bR4CIFZAGV0\n",
      "[youtube] bR4CIFZAGV0: Downloading webpage\n",
      "[youtube] bR4CIFZAGV0: Downloading ios player API JSON\n",
      "[youtube] bR4CIFZAGV0: Downloading mweb player API JSON\n",
      "[youtube] bR4CIFZAGV0: Downloading m3u8 information\n",
      "[info] bR4CIFZAGV0: Downloading 1 format(s): 251\n",
      "[download] Destination: TUVE 24 CITAS con 24 YOUTUBERS !! [bR4CIFZAGV0].webm\n",
      "[download] 100% of   22.68MiB in 00:00:00 at 23.64MiB/s    \n"
     ]
    },
    {
     "name": "stderr",
     "output_type": "stream",
     "text": [
      "ERROR: Postprocessing: ffprobe and ffmpeg not found. Please install or provide the path using --ffmpeg-location\n"
     ]
    },
    {
     "name": "stdout",
     "output_type": "stream",
     "text": [
      "Error during download: ERROR: Postprocessing: ffprobe and ffmpeg not found. Please install or provide the path using --ffmpeg-location\n"
     ]
    }
   ],
   "source": [
    "from yt_dlp import YoutubeDL\n",
    "\n",
    "def search_and_download_audio(keyword):\n",
    "    # Options for searching on YouTube\n",
    "    search_opts = {\n",
    "        'quiet': True,\n",
    "        'noplaylist': True,\n",
    "        'default_search': 'ytsearch',  # Explicitly search on YouTube\n",
    "    }\n",
    "\n",
    "    with YoutubeDL(search_opts) as ydl:\n",
    "        try:\n",
    "            # Search for the keyword\n",
    "            search_results = ydl.extract_info(f\"ytsearch:{keyword}\", download=False)\n",
    "        except Exception as e:\n",
    "            print(f\"Error during search: {e}\")\n",
    "            return\n",
    "\n",
    "        # Validate the search results\n",
    "        if not search_results or 'entries' not in search_results or not search_results['entries']:\n",
    "            print(\"No results found.\")\n",
    "            return\n",
    "\n",
    "        # Get the first result\n",
    "        first_video = search_results['entries'][0]\n",
    "        video_url = first_video.get('webpage_url')\n",
    "        video_title = first_video.get('title')\n",
    "\n",
    "        if not video_url:\n",
    "            print(\"No valid video URL found.\")\n",
    "            return\n",
    "\n",
    "        print(f\"Found video: {video_title}\")\n",
    "        print(f\"Video URL: {video_url}\")\n",
    "\n",
    "        # Options for downloading audio\n",
    "        download_opts = {\n",
    "            'format': 'bestaudio/best',\n",
    "            'postprocessors': [{\n",
    "                'key': 'FFmpegExtractAudio',\n",
    "                'preferredcodec': 'mp3',\n",
    "                'preferredquality': '192',\n",
    "            }],\n",
    "        }\n",
    "\n",
    "        with YoutubeDL(download_opts) as downloader:\n",
    "            try:\n",
    "                downloader.download([video_url])\n",
    "                print(f\"Audio downloaded successfully: {video_title}.mp3\")\n",
    "            except Exception as e:\n",
    "                print(f\"Error during download: {e}\")\n",
    "\n",
    "# Use the function\n",
    "keyword = \"yolo\"  # Replace with your search keyword\n",
    "search_and_download_audio(keyword)"
   ]
  },
  {
   "cell_type": "markdown",
   "id": "18a386f6-21c0-495b-9f59-c35468e32467",
   "metadata": {},
   "source": [
    "# extraer metadata"
   ]
  },
  {
   "cell_type": "code",
   "execution_count": 1,
   "id": "368deacf-0f62-44c5-8df3-705e46046afa",
   "metadata": {},
   "outputs": [
    {
     "name": "stderr",
     "output_type": "stream",
     "text": [
      "WARNING: ffmpeg not found. The downloaded format may not be the best available. Installing ffmpeg is strongly recommended: https://github.com/yt-dlp/yt-dlp#dependencies\n"
     ]
    },
    {
     "name": "stdout",
     "output_type": "stream",
     "text": [
      "Título: Floating Points, Caribou, & Palms Trax b2b at NTS Square Party\n",
      "Subido por: NTS\n",
      "Duración (s): 3267\n",
      "Vistas: 64171\n",
      "Descripción: The full recording from the closing set at NTS' Square Party in Gillett Square, Dalston. Triple threat action from Floating Points, Caribou, and Palms Trax on FP's custom built Sunflower Sound System 🌻\n",
      "\n",
      "#floatingpoints #caribou #palmstrax #dj #djmix \n",
      "\n",
      "https://www.instagram.com/floatingpoints/\n",
      "https://www.instagram.com/cariboumusic/\n",
      "https://www.instagram.com/palmstrax/\n",
      "\n",
      "Subscribe to NTS: http://bit.ly/1l9oJQY \n",
      "https://www.nts.live\n",
      "https://twitter.com/ntslive\n",
      "https://instagram.com/nts_radio\n",
      "https://www.facebook.com/ntsradiolive\n",
      "https://www.tiktok.com/@nts_radio\n",
      "URL del video: https://www.youtube.com/watch?v=o0UsPnjE5sY\n"
     ]
    }
   ],
   "source": [
    "from yt_dlp import YoutubeDL\n",
    "\n",
    "# URL del video de YouTube\n",
    "url = 'https://www.youtube.com/watch?v=o0UsPnjE5sY'\n",
    "\n",
    "# Opciones para yt-dlp\n",
    "ydl_opts = {\n",
    "    'quiet': True,  # Evita mostrar demasiada información en la terminal\n",
    "    'skip_download': True,  # No descargar el video, solo obtener la metadata\n",
    "}\n",
    "\n",
    "# Extraer metadata\n",
    "with YoutubeDL(ydl_opts) as ydl:\n",
    "    info_dict = ydl.extract_info(url, download=False)\n",
    "\n",
    "# Imprimir los metadatos\n",
    "print(\"Título:\", info_dict.get('title'))\n",
    "print(\"Subido por:\", info_dict.get('uploader'))\n",
    "print(\"Duración (s):\", info_dict.get('duration'))\n",
    "print(\"Vistas:\", info_dict.get('view_count'))\n",
    "print(\"Descripción:\", info_dict.get('description'))\n",
    "print(\"URL del video:\", info_dict.get('webpage_url'))\n"
   ]
  },
  {
   "cell_type": "code",
   "execution_count": 10,
   "id": "e5baa300-4f46-4e4a-8189-7c248a5c12d0",
   "metadata": {},
   "outputs": [],
   "source": [
    "driver = webdriver.Chrome(\n",
    "        '')\n",
    "\n",
    "\n"
   ]
  },
  {
   "cell_type": "code",
   "execution_count": 13,
   "id": "2c99000c-9e64-40c2-a4cc-32fe755dc1f4",
   "metadata": {},
   "outputs": [
    {
     "name": "stdout",
     "output_type": "stream",
     "text": [
      "No se encontraron resultados.\n"
     ]
    }
   ],
   "source": [
    "from selenium import webdriver\n",
    "from selenium.webdriver.common.by import By\n",
    "from selenium.webdriver.common.keys import Keys\n",
    "from selenium.webdriver.chrome.service import Service\n",
    "from webdriver_manager.chrome import ChromeDriverManager\n",
    "import time\n",
    "\n",
    "\n",
    "\n",
    "try:\n",
    "    driver = webdriver.Chrome(\n",
    "        '')\n",
    "\n",
    "    \n",
    "    # Abrir la página principal\n",
    "    driver.get('https://www.1001tracklists.com/')\n",
    "\n",
    "    # Esperar a que el cuadro de búsqueda esté disponible\n",
    "    time.sleep(3)  # Ajusta el tiempo según la velocidad de carga de la página\n",
    "\n",
    "    # Buscar el campo de búsqueda usando su ID o nombre\n",
    "    search_box = driver.find_element(By.ID, \"sBoxInput\")\n",
    "\n",
    "    # Ingresar el texto de búsqueda y presionar Enter\n",
    "    query = \"Floating Points, Caribou, & Palms Trax b2b at NTS Square Party\"\n",
    "    search_box.send_keys(query)\n",
    "    search_box.send_keys(Keys.RETURN)\n",
    "\n",
    "    # Esperar a que los resultados carguen\n",
    "    time.sleep(5)  # Ajusta según la velocidad de la página\n",
    "\n",
    "     # Obtener el primer resultado y hacer clic\n",
    "    results = driver.find_elements(By.CSS_SELECTOR, \"a.tlLink\")\n",
    "    if results:\n",
    "        first_result = results[0]\n",
    "        first_result.click()  # Hacer clic en el primer resultado\n",
    "        time.sleep(5)  # Esperar a que cargue la página del resultado\n",
    "\n",
    "        # Buscar la información específica dentro de la página del resultado\n",
    "        artist_span = driver.find_element(By.CSS_SELECTOR, \"span.notranslate.blueTxt\")\n",
    "        artist_name = artist_span.text  # Obtener el texto del nombre del artista\n",
    "        artist_link = artist_span.find_element(By.CSS_SELECTOR, \"a\").get_attribute(\"href\")  # Obtener el enlace\n",
    "        print(f\"Artista: {artist_name}\")\n",
    "        print(f\"Enlace: {artist_link}\")\n",
    "    else:\n",
    "        print(\"No se encontraron resultados.\")\n",
    "\n",
    "finally:\n",
    "    # Cerrar el navegador\n",
    "    driver.quit()"
   ]
  },
  {
   "cell_type": "code",
   "execution_count": null,
   "id": "a1c759f8-d6fe-441b-87da-4d0f3e25afda",
   "metadata": {},
   "outputs": [],
   "source": []
  }
 ],
 "metadata": {
  "kernelspec": {
   "display_name": "Python 3 (ipykernel)",
   "language": "python",
   "name": "python3"
  },
  "language_info": {
   "codemirror_mode": {
    "name": "ipython",
    "version": 3
   },
   "file_extension": ".py",
   "mimetype": "text/x-python",
   "name": "python",
   "nbconvert_exporter": "python",
   "pygments_lexer": "ipython3",
   "version": "3.11.7"
  }
 },
 "nbformat": 4,
 "nbformat_minor": 5
}
